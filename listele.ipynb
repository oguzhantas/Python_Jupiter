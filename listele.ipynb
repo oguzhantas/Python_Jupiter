{
 "cells": [
  {
   "cell_type": "code",
   "execution_count": 7,
   "id": "5db5b1d5-226f-48f9-83f1-b7d1c24e8cef",
   "metadata": {},
   "outputs": [
    {
     "name": "stdout",
     "output_type": "stream",
     "text": [
      "[1, 2, 3, 10, 11, 12, 13]\n"
     ]
    }
   ],
   "source": [
    "dizi=[1,2,3,10,11,12,13]\n",
    "print(dizi)"
   ]
  },
  {
   "cell_type": "code",
   "execution_count": 9,
   "id": "5330b6c8-37f9-4f0c-a348-9b9d77c286aa",
   "metadata": {},
   "outputs": [
    {
     "name": "stdout",
     "output_type": "stream",
     "text": [
      "İlk eleman: 1\n"
     ]
    }
   ],
   "source": [
    "print(\"İlk eleman:\",dizi[0])"
   ]
  },
  {
   "cell_type": "code",
   "execution_count": 10,
   "id": "85e99e5c-3dfe-4277-bfd5-b3b7506d7b2c",
   "metadata": {},
   "outputs": [
    {
     "name": "stdout",
     "output_type": "stream",
     "text": [
      "Son eleman: 13\n"
     ]
    }
   ],
   "source": [
    "print(\"Son eleman:\",dizi[6])"
   ]
  },
  {
   "cell_type": "code",
   "execution_count": null,
   "id": "867fec77-71b6-4b15-9f00-6831f1faa0d3",
   "metadata": {},
   "outputs": [],
   "source": []
  },
  {
   "cell_type": "code",
   "execution_count": 11,
   "id": "f909e1ba-c75c-49c0-8f9c-e446a84478ac",
   "metadata": {},
   "outputs": [
    {
     "name": "stdout",
     "output_type": "stream",
     "text": [
      "Son eleman: 13\n"
     ]
    }
   ],
   "source": [
    "print(\"Son eleman:\",dizi[-1])"
   ]
  },
  {
   "cell_type": "code",
   "execution_count": 5,
   "id": "42a4c07c-aeeb-4140-936b-e6f193ac5df5",
   "metadata": {},
   "outputs": [
    {
     "name": "stdout",
     "output_type": "stream",
     "text": [
      "İlk iki eleman: [1, 2]\n"
     ]
    }
   ],
   "source": [
    "print(\"İlk iki eleman:\", dizi[0:2])"
   ]
  },
  {
   "cell_type": "code",
   "execution_count": 12,
   "id": "cec88666-1415-42fb-9edd-d19a25ea7e3d",
   "metadata": {},
   "outputs": [
    {
     "name": "stdout",
     "output_type": "stream",
     "text": [
      "Üçüncü elemana kadar yaz: [1, 2, 3]\n"
     ]
    }
   ],
   "source": [
    "print(\"Üçüncü elemana kadar yaz:\",dizi[:3])"
   ]
  },
  {
   "cell_type": "code",
   "execution_count": 14,
   "id": "dc6f9ad5-bbf3-43a8-aee4-49b68083d94c",
   "metadata": {},
   "outputs": [
    {
     "name": "stdout",
     "output_type": "stream",
     "text": [
      "1 Atlayarak git: [1, 3, 11, 13]\n"
     ]
    }
   ],
   "source": [
    "print(\"1 Atlayarak git:\", dizi[0:7:2])"
   ]
  },
  {
   "cell_type": "code",
   "execution_count": 15,
   "id": "462d9e80-f788-453d-b0a8-6d3aa20ae2fa",
   "metadata": {},
   "outputs": [
    {
     "name": "stdout",
     "output_type": "stream",
     "text": [
      "Üçüncü elemandan sona kadar: [10, 11, 12, 13]\n"
     ]
    }
   ],
   "source": [
    "print(\"Üçüncü elemandan sona kadar:\",dizi[3:])"
   ]
  },
  {
   "cell_type": "code",
   "execution_count": 16,
   "id": "a5864d6c-f886-47f8-a03b-9542e1a908fe",
   "metadata": {},
   "outputs": [
    {
     "name": "stdout",
     "output_type": "stream",
     "text": [
      "Eleman sayısı: 7\n"
     ]
    }
   ],
   "source": [
    "print(\"Eleman sayısı:\",len(dizi))"
   ]
  },
  {
   "cell_type": "code",
   "execution_count": 19,
   "id": "029ab2a9-7aea-4bfc-aa9e-413113258a3b",
   "metadata": {},
   "outputs": [],
   "source": [
    "dizi2=[100,200,300]"
   ]
  },
  {
   "cell_type": "code",
   "execution_count": 20,
   "id": "bdf0af89-85e4-47c1-9d4e-d5b8bdf963f4",
   "metadata": {},
   "outputs": [],
   "source": [
    "sondizi=dizi+dizi2"
   ]
  },
  {
   "cell_type": "code",
   "execution_count": 21,
   "id": "b6fad1ce-988c-49a6-804a-d554746b4da0",
   "metadata": {},
   "outputs": [
    {
     "name": "stdout",
     "output_type": "stream",
     "text": [
      "[1, 2, 3, 10, 11, 12, 13, 100, 200, 300]\n"
     ]
    }
   ],
   "source": [
    "print(sondizi)"
   ]
  },
  {
   "cell_type": "code",
   "execution_count": 22,
   "id": "4ff71d24-c085-481f-8a24-ca34e9681b06",
   "metadata": {},
   "outputs": [],
   "source": [
    "dizi2.extend(dizi)"
   ]
  },
  {
   "cell_type": "code",
   "execution_count": 23,
   "id": "9a16c36c-0b27-4b81-a5b1-dacdc46ef2e4",
   "metadata": {},
   "outputs": [
    {
     "name": "stdout",
     "output_type": "stream",
     "text": [
      "[100, 200, 300, 1, 2, 3, 10, 11, 12, 13]\n"
     ]
    }
   ],
   "source": [
    "print(dizi2)"
   ]
  },
  {
   "cell_type": "code",
   "execution_count": 24,
   "id": "914a08b6-e641-43f0-a701-0e9e03b83f40",
   "metadata": {},
   "outputs": [],
   "source": [
    "dizi2.remove(2)"
   ]
  },
  {
   "cell_type": "code",
   "execution_count": 26,
   "id": "9ff2e592-8066-49cd-8e12-d8cff2fb1bce",
   "metadata": {},
   "outputs": [
    {
     "name": "stdout",
     "output_type": "stream",
     "text": [
      "[100, 200, 300, 1, 3, 10, 11, 12, 13]\n"
     ]
    }
   ],
   "source": [
    "print(dizi2)"
   ]
  },
  {
   "cell_type": "code",
   "execution_count": 27,
   "id": "2c267226-927f-44f4-b774-168379b88e17",
   "metadata": {},
   "outputs": [],
   "source": [
    "dizi.clear()"
   ]
  },
  {
   "cell_type": "code",
   "execution_count": 29,
   "id": "411a5026-0758-4ae8-9da9-20f13379ef2e",
   "metadata": {},
   "outputs": [
    {
     "name": "stdout",
     "output_type": "stream",
     "text": [
      "[]\n"
     ]
    }
   ],
   "source": [
    "print(dizi)"
   ]
  },
  {
   "cell_type": "code",
   "execution_count": 30,
   "id": "bde771bf-fa06-401e-a19b-9e9d37ddbb86",
   "metadata": {},
   "outputs": [
    {
     "data": {
      "text/plain": [
       "[100, 200, 300, 1, 3, 10, 11, 12, 13]"
      ]
     },
     "execution_count": 30,
     "metadata": {},
     "output_type": "execute_result"
    }
   ],
   "source": [
    "dizi2"
   ]
  },
  {
   "cell_type": "code",
   "execution_count": 31,
   "id": "eeba8a31-fb09-4a15-ab46-bd3a7a7f40ea",
   "metadata": {},
   "outputs": [],
   "source": [
    "dizi2.sort()"
   ]
  },
  {
   "cell_type": "code",
   "execution_count": 32,
   "id": "68c7950b-8a31-4d5a-af8e-3881272ae53d",
   "metadata": {},
   "outputs": [
    {
     "data": {
      "text/plain": [
       "[1, 3, 10, 11, 12, 13, 100, 200, 300]"
      ]
     },
     "execution_count": 32,
     "metadata": {},
     "output_type": "execute_result"
    }
   ],
   "source": [
    "dizi2"
   ]
  },
  {
   "cell_type": "code",
   "execution_count": null,
   "id": "b0de156a-3e1d-4966-a65e-37e54461b4ec",
   "metadata": {},
   "outputs": [],
   "source": []
  },
  {
   "cell_type": "code",
   "execution_count": null,
   "id": "e627110e-8314-4b6e-8dc2-ea8a30ebbed6",
   "metadata": {},
   "outputs": [],
   "source": []
  },
  {
   "cell_type": "code",
   "execution_count": null,
   "id": "37ce01a7-a778-4dc4-883c-89d65c8a31ed",
   "metadata": {},
   "outputs": [],
   "source": []
  },
  {
   "cell_type": "code",
   "execution_count": null,
   "id": "0699b429-2c4a-4b19-81b6-f4c6da2974c7",
   "metadata": {},
   "outputs": [],
   "source": []
  }
 ],
 "metadata": {
  "kernelspec": {
   "display_name": "Python 3 (ipykernel)",
   "language": "python",
   "name": "python3"
  },
  "language_info": {
   "codemirror_mode": {
    "name": "ipython",
    "version": 3
   },
   "file_extension": ".py",
   "mimetype": "text/x-python",
   "name": "python",
   "nbconvert_exporter": "python",
   "pygments_lexer": "ipython3",
   "version": "3.9.12"
  }
 },
 "nbformat": 4,
 "nbformat_minor": 5
}
