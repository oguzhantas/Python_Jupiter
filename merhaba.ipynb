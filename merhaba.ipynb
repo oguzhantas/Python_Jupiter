{
 "cells": [
  {
   "cell_type": "code",
   "execution_count": 1,
   "id": "4befd51e-bfc2-456f-8cf4-717c7f700845",
   "metadata": {},
   "outputs": [
    {
     "name": "stdout",
     "output_type": "stream",
     "text": [
      "merhaba\n"
     ]
    }
   ],
   "source": [
    "print('merhaba')"
   ]
  },
  {
   "cell_type": "code",
   "execution_count": 2,
   "id": "52358bbf-214a-4421-ac1c-08737e32f476",
   "metadata": {},
   "outputs": [
    {
     "data": {
      "text/plain": [
       "8"
      ]
     },
     "execution_count": 2,
     "metadata": {},
     "output_type": "execute_result"
    }
   ],
   "source": [
    "3+5"
   ]
  },
  {
   "cell_type": "code",
   "execution_count": 3,
   "id": "875426e2-dc91-4473-a470-fd06ea2dbe39",
   "metadata": {},
   "outputs": [
    {
     "data": {
      "text/plain": [
       "20"
      ]
     },
     "execution_count": 3,
     "metadata": {},
     "output_type": "execute_result"
    }
   ],
   "source": [
    "4*5"
   ]
  },
  {
   "cell_type": "code",
   "execution_count": 4,
   "id": "68fb783b-25ee-4bf1-980a-f0206cf2da72",
   "metadata": {},
   "outputs": [
    {
     "data": {
      "text/plain": [
       "1606938044258990275541962092341162602522202993782792835301376"
      ]
     },
     "execution_count": 4,
     "metadata": {},
     "output_type": "execute_result"
    }
   ],
   "source": [
    "4**100"
   ]
  },
  {
   "cell_type": "code",
   "execution_count": 5,
   "id": "ff29fdc6-4f79-412a-b25c-fedf7c115cad",
   "metadata": {},
   "outputs": [],
   "source": [
    "x=2"
   ]
  },
  {
   "cell_type": "code",
   "execution_count": 6,
   "id": "d85b6b89-e0fe-4927-a1bc-32d9963cb1ef",
   "metadata": {},
   "outputs": [
    {
     "data": {
      "text/plain": [
       "4"
      ]
     },
     "execution_count": 6,
     "metadata": {},
     "output_type": "execute_result"
    }
   ],
   "source": [
    "x**2"
   ]
  },
  {
   "cell_type": "code",
   "execution_count": 7,
   "id": "d565f7d7-d97f-48c8-8eb4-d46d8b650991",
   "metadata": {},
   "outputs": [
    {
     "data": {
      "text/plain": [
       "2"
      ]
     },
     "execution_count": 7,
     "metadata": {},
     "output_type": "execute_result"
    }
   ],
   "source": [
    "8//3"
   ]
  },
  {
   "cell_type": "code",
   "execution_count": 8,
   "id": "00acb12f-83c6-4ff2-b6fd-79787dc9c1a6",
   "metadata": {},
   "outputs": [
    {
     "data": {
      "text/plain": [
       "2.6666666666666665"
      ]
     },
     "execution_count": 8,
     "metadata": {},
     "output_type": "execute_result"
    }
   ],
   "source": [
    "8/3"
   ]
  },
  {
   "cell_type": "code",
   "execution_count": 9,
   "id": "0de3f8e2-a7cc-404e-a0f4-57a78f140582",
   "metadata": {},
   "outputs": [
    {
     "data": {
      "text/plain": [
       "2"
      ]
     },
     "execution_count": 9,
     "metadata": {},
     "output_type": "execute_result"
    }
   ],
   "source": [
    "8%3"
   ]
  },
  {
   "cell_type": "code",
   "execution_count": 10,
   "id": "82988f4a-a9d2-40a2-a767-348155f926f4",
   "metadata": {},
   "outputs": [
    {
     "data": {
      "text/plain": [
       "1"
      ]
     },
     "execution_count": 10,
     "metadata": {},
     "output_type": "execute_result"
    }
   ],
   "source": [
    "9%4"
   ]
  },
  {
   "cell_type": "code",
   "execution_count": 11,
   "id": "63190fd3-46fd-4264-abac-bf7d9092d9f8",
   "metadata": {},
   "outputs": [
    {
     "name": "stdin",
     "output_type": "stream",
     "text": [
      "Adınızı giriniz: Oğuzhan\n",
      "Soyadınızı giriniz: Taş\n"
     ]
    },
    {
     "name": "stdout",
     "output_type": "stream",
     "text": [
      "Merhaba Oğuzhan Taş\n"
     ]
    }
   ],
   "source": [
    "adi= input(\"Adınızı giriniz:\")\n",
    "soyadi=input(\"Soyadınızı giriniz:\")\n",
    "\n",
    "print(\"Merhaba \"+adi+\" \"+soyadi)"
   ]
  },
  {
   "cell_type": "code",
   "execution_count": 12,
   "id": "fe5cedb7-9cf8-431a-ac22-3990144d4422",
   "metadata": {},
   "outputs": [
    {
     "name": "stdin",
     "output_type": "stream",
     "text": [
      "1. notunuz: 50\n",
      "2.notunuz: 60\n",
      "3.notunuz: 70\n"
     ]
    },
    {
     "name": "stdout",
     "output_type": "stream",
     "text": [
      "Ortalama değeri= 60.0\n"
     ]
    }
   ],
   "source": [
    "not1=int(input(\"1. notunuz:\"))\n",
    "not2=int(input(\"2.notunuz:\"))\n",
    "not3=int(input(\"3.notunuz:\"))\n",
    "\n",
    "ortalama= (not1+not2+not3)/3\n",
    "print(\"Ortalama değeri=\",ortalama)\n"
   ]
  },
  {
   "cell_type": "code",
   "execution_count": 13,
   "id": "6f79c426-42c2-4e1f-a796-9dc03d95978a",
   "metadata": {},
   "outputs": [
    {
     "name": "stdin",
     "output_type": "stream",
     "text": [
      "1. notunuz: 55.5\n",
      "2.notunuz: 60.2\n",
      "3.notunuz: 75.5\n"
     ]
    },
    {
     "name": "stdout",
     "output_type": "stream",
     "text": [
      "Ortalama değeri= 63.73333333333333\n"
     ]
    }
   ],
   "source": [
    "not1=float(input(\"1. notunuz:\"))\n",
    "not2=float(input(\"2.notunuz:\"))\n",
    "not3=float(input(\"3.notunuz:\"))\n",
    "\n",
    "ortalama= (not1+not2+not3)/3\n",
    "print(\"Ortalama değeri=\",ortalama)\n"
   ]
  },
  {
   "cell_type": "code",
   "execution_count": null,
   "id": "9ce46d45-a909-4de8-aa3b-9c9f0afed136",
   "metadata": {},
   "outputs": [],
   "source": []
  }
 ],
 "metadata": {
  "kernelspec": {
   "display_name": "Python 3 (ipykernel)",
   "language": "python",
   "name": "python3"
  },
  "language_info": {
   "codemirror_mode": {
    "name": "ipython",
    "version": 3
   },
   "file_extension": ".py",
   "mimetype": "text/x-python",
   "name": "python",
   "nbconvert_exporter": "python",
   "pygments_lexer": "ipython3",
   "version": "3.9.12"
  }
 },
 "nbformat": 4,
 "nbformat_minor": 5
}
